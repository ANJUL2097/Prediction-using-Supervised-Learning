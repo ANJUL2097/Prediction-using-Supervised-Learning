{
 "cells": [
  {
   "cell_type": "markdown",
   "metadata": {},
   "source": [
    "## Task-05 Exploratory Data Analysis\n",
    "\n",
    "## Submitted By - Anjul Bhardwaj\n",
    "\n",
    "\n",
    "### Perform ‘Exploratory Data Analysis’ on the provided dataset ‘SampleSuperstore’\n",
    "\n"
   ]
  },
  {
   "cell_type": "code",
   "execution_count": null,
   "metadata": {},
   "outputs": [],
   "source": [
    "#import all the libraries first\n",
    "import numpy as np\n",
    "import pandas as pd\n",
    "import seaborn as sns\n",
    "import matplotlib.pyplot as plt\n",
    "\n",
    "import cufflinks as cf\n",
    "from plotly.offline import download_plotlyjs,init_notebook_mode,plot,iplot\n",
    "init_notebook_mode(connected=True)\n",
    "cf.go_offline()\n",
    "\n",
    "%matplotlib inline "
   ]
  },
  {
   "cell_type": "code",
   "execution_count": null,
   "metadata": {},
   "outputs": [],
   "source": [
    "#Now read the given csv file for the EDA\n",
    " \n",
    "df1 = pd.read_csv('SampleSuperstore.csv')\n",
    "print(\"Data imported successfully\")\n",
    "df1.head(10)"
   ]
  },
  {
   "cell_type": "code",
   "execution_count": null,
   "metadata": {},
   "outputs": [],
   "source": [
    "#For find the data tail \n",
    "df1.tail(10)"
   ]
  },
  {
   "cell_type": "code",
   "execution_count": null,
   "metadata": {},
   "outputs": [],
   "source": [
    "#In this we should find the whole information odf the given data.\n",
    "df1.info()"
   ]
  },
  {
   "cell_type": "code",
   "execution_count": null,
   "metadata": {},
   "outputs": [],
   "source": [
    "#In this we should find whole descrpition of the given data.\n",
    "df1.describe()"
   ]
  },
  {
   "cell_type": "code",
   "execution_count": null,
   "metadata": {},
   "outputs": [],
   "source": [
    "#In this we find all the maximum values of each coloumn.\n",
    "df1.max()"
   ]
  },
  {
   "cell_type": "code",
   "execution_count": null,
   "metadata": {},
   "outputs": [],
   "source": [
    "#In this we find all the mainimum values of each coloumn.\n",
    "df1.min()"
   ]
  },
  {
   "cell_type": "code",
   "execution_count": null,
   "metadata": {},
   "outputs": [],
   "source": [
    "#For the Uniquie Values\n",
    "df1['Category'].unique()"
   ]
  },
  {
   "cell_type": "code",
   "execution_count": null,
   "metadata": {},
   "outputs": [],
   "source": [
    "#For finding the Missing Values\n",
    "df1.isna().any()"
   ]
  },
  {
   "cell_type": "code",
   "execution_count": null,
   "metadata": {},
   "outputs": [],
   "source": [
    "#Computing Pairwise Correlation of Columns\n",
    "df1.corr()"
   ]
  },
  {
   "cell_type": "code",
   "execution_count": null,
   "metadata": {},
   "outputs": [],
   "source": [
    "#For create the scatter plot \n",
    "df1.plot.scatter(x='Discount',y='Profit',c='green',s=50,figsize=(12,5))\n",
    "plt.show()"
   ]
  },
  {
   "cell_type": "code",
   "execution_count": null,
   "metadata": {},
   "outputs": [],
   "source": [
    "#Sperad plot for 3D Visulization\n",
    "df1[['Discount','Profit']].iplot(kind='spread')"
   ]
  },
  {
   "cell_type": "code",
   "execution_count": null,
   "metadata": {},
   "outputs": [],
   "source": [
    "#All data in one code\n",
    "sns.set_palette('viridis')\n",
    "sns.pairplot(df1)\n",
    "plt.show()"
   ]
  },
  {
   "cell_type": "code",
   "execution_count": null,
   "metadata": {},
   "outputs": [],
   "source": [
    "#Category vs Sales Bar Graph\n",
    "\n",
    "plt.bar('Category','Sales',data=df1)\n",
    "plt.title('Sales vs Category',size= 15)\n",
    "plt.xlabel('Category',size= 13)\n",
    "plt.ylabel('Sales',size= 13)\n",
    "plt.show()"
   ]
  },
  {
   "cell_type": "code",
   "execution_count": null,
   "metadata": {},
   "outputs": [],
   "source": [
    "#Quantities Ordered by each Segment\n",
    "\n",
    "df_group = df1.groupby('Segment')['Quantity'].sum().reset_index()\n",
    "print(df_group)\n",
    "labels = df1['Segment'].unique()\n",
    "colors = ['lightskyblue', 'darkblue', 'blue']\n",
    "plt.figure(figsize=(5,5))\n",
    "plt.pie(df_group['Quantity'],autopct='%1.1f%%',labels=labels,explode=(0.02,0.02,0.02), colors=colors)\n",
    "plt.title('Quantities ordered by each segment',size= 15)\n",
    "plt.show()"
   ]
  },
  {
   "cell_type": "code",
   "execution_count": null,
   "metadata": {},
   "outputs": [],
   "source": [
    "#Shipping Models\n",
    "\n",
    "plt.figure(figsize=(6,5))\n",
    "sns.countplot('Ship Mode',data=df1, palette='Blues_d')\n",
    "plt.title('Popular Shipping Modes',size=14)\n",
    "plt.xlabel('\\n Shipping mode',size=12)\n",
    "plt.ylabel('Number of orders',size=12)\n",
    "plt.xticks(fontsize=10)\n",
    "plt.show()"
   ]
  },
  {
   "cell_type": "markdown",
   "metadata": {},
   "source": [
    "As we can see, the standard class shipping has the most count which means the customers have opted for this type of sipping mode the most. This is because Standard class delivery will cost less compared to the the premium for same day delivery is much higher. Hence, customers choosing same day delivery is the least."
   ]
  },
  {
   "cell_type": "code",
   "execution_count": null,
   "metadata": {},
   "outputs": [],
   "source": [
    "#Shipping Mode vs Count\n",
    "\n",
    "sns.catplot('Ship Mode',data=df1,hue='Segment',kind='count',palette='dark',aspect=1.5,height=6)\n",
    "plt.show()"
   ]
  },
  {
   "cell_type": "code",
   "execution_count": null,
   "metadata": {},
   "outputs": [],
   "source": [
    "#State counts of Unique Values\n",
    "\n",
    "df1['State'].value_counts()"
   ]
  },
  {
   "cell_type": "code",
   "execution_count": null,
   "metadata": {},
   "outputs": [],
   "source": [
    "#Cities each of Least and Most Quantities Ordered\n",
    "\n",
    "sns.catplot('State',kind='count',data=df1,palette='Set1',height=6,aspect=1.5)\n",
    "plt.xticks(rotation=90)\n",
    "plt.show()"
   ]
  },
  {
   "cell_type": "code",
   "execution_count": null,
   "metadata": {},
   "outputs": [],
   "source": [
    "#Grouping by Quantity of Cities\n",
    "\n",
    "dftop10 = df1.groupby('City')['Quantity'].sum().reset_index().sort_values(by='Quantity',ascending=True)\n",
    "dftop10"
   ]
  },
  {
   "cell_type": "code",
   "execution_count": null,
   "metadata": {},
   "outputs": [],
   "source": [
    "#Top 10 Most Ordering Cities\n",
    "\n",
    "dftop10 = dftop10.head(10)\n",
    "dftop10.reset_index(drop=True,inplace=True)\n",
    "dftop10"
   ]
  },
  {
   "cell_type": "code",
   "execution_count": null,
   "metadata": {},
   "outputs": [],
   "source": [
    "#Quantities Ordered Region Wise\n",
    "\n",
    "df_region=df1.groupby('Region')['Quantity'].sum().reset_index()\n",
    "print(df_region)\n",
    "\n",
    "labels = df_region['Region'].unique()\n",
    "plt.figure(figsize=(5,5))\n",
    "plt.pie(df_region['Quantity'],autopct='%1.1f%%',explode=(0.02,0.02,0.02,0.02),)\n",
    "plt.title('Quantities ordered by each region',size=13)\n",
    "\n",
    "plt.show()"
   ]
  },
  {
   "cell_type": "code",
   "execution_count": null,
   "metadata": {},
   "outputs": [],
   "source": [
    "#Highest Selling Categories\n",
    "\n",
    "df_cats = df1.groupby('Category')['Quantity'].sum().reset_index()\n",
    "df_cats"
   ]
  },
  {
   "cell_type": "code",
   "execution_count": null,
   "metadata": {},
   "outputs": [],
   "source": [
    "#Distribution of Products Sold\n",
    "\n",
    "plt.figure(figsize=(5,5))\n",
    "labels=df_cats['Category'].unique()\n",
    "plt.pie(df_cats['Quantity'],autopct='%1.1f%%',labels=labels,explode=(0.02,0.02,0.02))\n",
    "\n",
    "plt.title('Distribution of products sold',size=13)\n",
    "\n",
    "plt.show()"
   ]
  },
  {
   "cell_type": "code",
   "execution_count": null,
   "metadata": {},
   "outputs": [],
   "source": [
    "#Most Profitable Categories\n",
    "\n",
    "dfprofit = df1.groupby('Category')['Profit'].sum().reset_index()\n",
    "print(dfprofit)\n",
    "plt.figure(figsize=(5,5))\n",
    "labels=dfprofit['Category'].unique()\n",
    "plt.pie(dfprofit['Profit'],autopct='%1.1f%%',labels=labels,explode=(0.02,0.02,0.02))\n",
    "\n",
    "plt.title('Distribution of profits categorywise',size=20)\n",
    "plt.show()"
   ]
  },
  {
   "cell_type": "code",
   "execution_count": null,
   "metadata": {},
   "outputs": [],
   "source": [
    "#Most Profitable Products\n",
    "\n",
    "dftop10_items = df1.groupby('Sub-Category')['Profit'].sum().reset_index().sort_values(by='Profit',ascending=False)\n",
    "dftop10_items.reset_index(drop=True,inplace=True)\n",
    "dftop10_items=dftop10_items.head(10)\n",
    "dftop10_items"
   ]
  },
  {
   "cell_type": "code",
   "execution_count": null,
   "metadata": {},
   "outputs": [],
   "source": [
    "#Visualizing the Top 10 Profitable Products\n",
    "\n",
    "sns.catplot('Sub-Category','Profit',data=dftop10_items,kind='bar',aspect=1.5,height=9,palette='ch:2.5,-.2,dark=.3')\n",
    "plt.title('Top 10 profitable products',size=20)\n",
    "plt.xticks(size=15)\n",
    "plt.yticks(size=15)\n",
    "plt.ylabel('Cumulative profit',size=18)\n",
    "plt.xlabel('Products',size=18)\n",
    "\n",
    "plt.show()"
   ]
  },
  {
   "cell_type": "code",
   "execution_count": null,
   "metadata": {},
   "outputs": [],
   "source": [
    "#Top Profitable cities\n",
    "\n",
    "dftop10_cities = df1.groupby('City')['Profit'].sum().reset_index().sort_values(by='Profit',ascending=False)\n",
    "\n",
    "dftop10_cities = dftop10_cities.head(10)\n",
    "dftop10_cities\n"
   ]
  },
  {
   "cell_type": "code",
   "execution_count": null,
   "metadata": {},
   "outputs": [],
   "source": [
    "#Visualizing the Top 10 Profitable Cities\n",
    "\n",
    "sns.catplot('City','Profit',data=dftop10_cities,kind='bar',aspect=2,height=8,palette='RdBu')\n",
    "plt.title('Top 10 cities with profit inflow',size=25)\n",
    "plt.xticks(size=15)\n",
    "plt.yticks(size=15)\n",
    "plt.ylabel('Cumulative profit',size=18)\n",
    "plt.xlabel('City',size=18)\n",
    "\n",
    "plt.show()"
   ]
  },
  {
   "cell_type": "markdown",
   "metadata": {},
   "source": [
    "# Conclusion\n",
    "\n",
    "## From above Data Visualization we can conclude as follow:\n",
    "#### Data Quality: Good quality data with no need for data preprocessing. No null values in Data set.\n",
    "\n",
    "#### Sales: 22,97,201\n",
    "#### Profit: 2,86,397\n",
    "\n",
    "#### 'Standard Class' accounts for the majority of profit.\n",
    "#### 'HomeOffice' segment generates least sale.\n",
    "\n",
    "## In central region Furniture incures loss.\n",
    "##### 'Florida', 'Oregon', 'Arizona', 'Illinois', 'Texas', 'Pennsylvania', 'Tennessee', 'North Carlina', 'Colorado' and 'Ohio' have noticeably less Profit."
   ]
  }
 ],
 "metadata": {
  "kernelspec": {
   "display_name": "Python 3",
   "language": "python",
   "name": "python3"
  },
  "language_info": {
   "codemirror_mode": {
    "name": "ipython",
    "version": 3
   },
   "file_extension": ".py",
   "mimetype": "text/x-python",
   "name": "python",
   "nbconvert_exporter": "python",
   "pygments_lexer": "ipython3",
   "version": "3.7.3"
  }
 },
 "nbformat": 4,
 "nbformat_minor": 2
}
